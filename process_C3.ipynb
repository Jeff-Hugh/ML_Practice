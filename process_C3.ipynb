{
 "cells": [
  {
   "cell_type": "code",
   "execution_count": 1,
   "id": "e77d1aa5",
   "metadata": {},
   "outputs": [],
   "source": [
    "import numpy as np\n",
    "import matplotlib.pyplot as plt\n",
    "import seaborn\n",
    "import pandas as pd"
   ]
  },
  {
   "cell_type": "code",
   "execution_count": 2,
   "id": "6e8c74d0",
   "metadata": {},
   "outputs": [
    {
     "name": "stdout",
     "output_type": "stream",
     "text": [
      "   重量平均值    重量相对偏差  重量标准偏差  重量变异系数  重量最小值  重量最大值  吸阻平均值    吸阻相对偏差  吸阻标准偏差  \\\n",
      "0  0.516  0.006524   0.011   2.202  0.499  0.538  1.275  0.041404   0.048   \n",
      "1  0.515  0.004573   0.012   2.350  0.482  0.545  1.321  0.006820   0.046   \n",
      "2  0.507  0.011032   0.012   2.316  0.477  0.524  1.291  0.029375   0.049   \n",
      "3  0.507  0.011032   0.013   2.549  0.479  0.529  1.296  0.025616   0.059   \n",
      "4  0.509  0.007131   0.009   1.863  0.486  0.531  1.350  0.014984   0.058   \n",
      "\n",
      "   吸阻变异系数  ...  嘴通平均值  嘴通标准偏差  嘴通变异系数  嘴通最小值  嘴通最大值  总通平均值  总通标准偏差  总通变异系数  \\\n",
      "0   3.784  ...   38.0   2.073   5.453   33.7   41.4   44.6   2.006   4.502   \n",
      "1   3.465  ...   36.1   2.202   6.105   31.3   39.6   43.0   2.106   4.904   \n",
      "2   3.802  ...   34.8   1.802   5.184   30.9   37.4   42.0   1.810   4.308   \n",
      "3   4.587  ...   36.3   1.884   5.196   31.4   41.4   42.8   2.027   4.739   \n",
      "4   4.322  ...   36.3   1.598   4.407   33.1   39.9   42.0   1.577   3.751   \n",
      "\n",
      "   总通最小值  总通最大值  \n",
      "0   40.1   48.0  \n",
      "1   37.8   47.0  \n",
      "2   38.4   45.3  \n",
      "3   36.8   47.5  \n",
      "4   38.4   45.6  \n",
      "\n",
      "[5 rows x 40 columns]\n"
     ]
    }
   ],
   "source": [
    "# 读取excel数据，第一行为列名\n",
    "file = \"data/data.xlsx\"\n",
    "data = pd.read_excel(file, header=0)\n",
    "\n",
    "# 截取数据的第7列至“总通最大值”\n",
    "data = data.iloc[:, 6:-3]\n",
    "\n",
    "# 打印数据的前几行\n",
    "print(data.head()) "
   ]
  },
  {
   "cell_type": "code",
   "execution_count": 3,
   "id": "7328c059",
   "metadata": {},
   "outputs": [
    {
     "name": "stdout",
     "output_type": "stream",
     "text": [
      "缺失值的索引：\n",
      "[592, 593, 758, 759, 760, 761, 762, 763, 764, 765, 766, 767]\n",
      "数据中存在缺失值，正在处理...\n",
      "缺失值已处理。\n",
      "异常值已处理。\n"
     ]
    }
   ],
   "source": [
    "# 检查并处理缺失值（NaNs）和异常值（outliers）\n",
    "def preprocess_data(df):\n",
    "    # 检查缺失值\n",
    "    if df.isnull().values.any():\n",
    "        # 如果存在缺失值，打印缺失值的索引\n",
    "        print(\"缺失值的索引：\")\n",
    "        print(df[df.isnull().any(axis=1)].index.tolist())\n",
    "\n",
    "        print(\"数据中存在缺失值，正在处理...\")\n",
    "\n",
    "        df = df.fillna(df.mean())  # 用均值填充缺失值\n",
    "        print(\"缺失值已处理。\")\n",
    "    else:\n",
    "        print(\"数据中没有缺失值。\")\n",
    "\n",
    "    # 检查异常值\n",
    "    for column in df.select_dtypes(include=[np.number]).columns:\n",
    "        if (df[column] < 0).any():\n",
    "            print(f\"列 {column} 存在异常值（负数），正在处理...\")\n",
    "            df[column] = df[column].clip(lower=0)\n",
    "\n",
    "    print(\"异常值已处理。\")\n",
    "    return df\n",
    "\n",
    "data = preprocess_data(data)"
   ]
  },
  {
   "cell_type": "code",
   "execution_count": 4,
   "id": "036704d1",
   "metadata": {},
   "outputs": [
    {
     "name": "stdout",
     "output_type": "stream",
     "text": [
      "原始数据的统计信息:\n",
      "             重量平均值       重量相对偏差       重量标准偏差       重量变异系数        重量最小值  \\\n",
      "count  1237.000000  1237.000000  1237.000000  1237.000000  1237.000000   \n",
      "mean      0.512656     0.007065     0.010463     2.044025     0.490781   \n",
      "std       0.004634     0.005635     0.001535     0.294834     0.006928   \n",
      "min       0.501000     0.000087     0.005000     1.006000     0.466000   \n",
      "25%       0.509500     0.002623     0.009000     1.838300     0.486000   \n",
      "50%       0.512000     0.005744     0.010300     2.044000     0.491000   \n",
      "75%       0.515200     0.010425     0.011200     2.222000     0.495000   \n",
      "max       0.531000     0.035783     0.017100     3.347000     0.518000   \n",
      "\n",
      "             重量最大值        吸阻平均值       吸阻相对偏差       吸阻标准偏差       吸阻变异系数  ...  \\\n",
      "count  1237.000000  1237.000000  1237.000000  1237.000000  1237.000000  ...   \n",
      "mean      0.534255     1.330071     0.019747     0.049897     3.750157  ...   \n",
      "std       0.007185     0.034055     0.016288     0.008702     0.636770  ...   \n",
      "min       0.517000     1.172553     0.000023     0.025000     1.974000  ...   \n",
      "25%       0.529000     1.310556     0.007465     0.044000     3.296000  ...   \n",
      "50%       0.533000     1.330000     0.015842     0.049382     3.710400  ...   \n",
      "75%       0.538000     1.353000     0.027992     0.056000     4.162000  ...   \n",
      "max       0.564000     1.446000     0.118428     0.089070     6.432200  ...   \n",
      "\n",
      "             嘴通平均值       嘴通标准偏差       嘴通变异系数        嘴通最小值        嘴通最大值  \\\n",
      "count  1237.000000  1237.000000  1237.000000  1237.000000  1237.000000   \n",
      "mean     37.419671     1.579412     4.230571    34.141328    40.614478   \n",
      "std       1.234611     0.324051     0.910278     1.612381     1.407839   \n",
      "min      32.885400     0.627000     1.743000    26.980700    35.150500   \n",
      "25%      36.600000     1.358700     3.626000    33.100000    39.776500   \n",
      "50%      37.508300     1.542000     4.100000    34.200000    40.626000   \n",
      "75%      38.259700     1.756000     4.741000    35.228200    41.600000   \n",
      "max      41.414300     3.978900    11.678900    39.247700    47.700000   \n",
      "\n",
      "             总通平均值       总通标准偏差       总通变异系数        总通最小值        总通最大值  \n",
      "count  1237.000000  1237.000000  1237.000000  1237.000000  1237.000000  \n",
      "mean     43.889652     1.683314     3.846488    40.419447    47.398543  \n",
      "std       1.651460     0.330931     0.793502     2.012166     1.959650  \n",
      "min      39.121000     0.721000     1.304000    34.473200    41.808500  \n",
      "25%      42.900000     1.465000     3.330600    39.200000    46.222700  \n",
      "50%      43.900000     1.653700     3.772200    40.400000    47.300000  \n",
      "75%      44.800000     1.848300     4.271000    41.600000    48.300200  \n",
      "max      55.300000     3.972000     9.346000    54.000000    64.400000  \n",
      "\n",
      "[8 rows x 40 columns]\n",
      "\n",
      "-------------------------------------------------\n",
      "\n",
      "标准化后数据的统计信息:\n",
      "              重量平均值        重量相对偏差        重量标准偏差        重量变异系数         重量最小值  \\\n",
      "count  1.237000e+03  1.237000e+03  1.237000e+03  1.237000e+03  1.237000e+03   \n",
      "mean   5.973844e-16  8.041712e-17  8.924865e-16  1.924267e-16 -5.258706e-15   \n",
      "std    1.000404e+00  1.000404e+00  1.000404e+00  1.000404e+00  1.000404e+00   \n",
      "min   -2.516253e+00 -1.238739e+00 -3.561296e+00 -3.522138e+00 -3.578206e+00   \n",
      "25%   -6.812325e-01 -7.885726e-01 -9.538244e-01 -6.980484e-01 -6.903156e-01   \n",
      "50%   -1.415206e-01 -2.345216e-01 -1.063962e-01 -8.475929e-05  3.165707e-02   \n",
      "75%    5.493107e-01  5.965548e-01  4.802848e-01  6.038896e-01  6.092352e-01   \n",
      "max    3.960290e+00  5.098219e+00  4.326305e+00  4.421143e+00  3.930309e+00   \n",
      "\n",
      "              重量最大值         吸阻平均值        吸阻相对偏差        吸阻标准偏差        吸阻变异系数  \\\n",
      "count  1.237000e+03  1.237000e+03  1.237000e+03  1.237000e+03  1.237000e+03   \n",
      "mean   1.374271e-14  1.907035e-15 -2.584836e-17 -3.101803e-16  8.731002e-16   \n",
      "std    1.000404e+00  1.000404e+00  1.000404e+00  1.000404e+00  1.000404e+00   \n",
      "min   -2.402448e+00 -4.627255e+00 -1.211483e+00 -2.862077e+00 -2.790450e+00   \n",
      "25%   -7.316536e-01 -5.732610e-01 -7.543532e-01 -6.778620e-01 -7.135087e-01   \n",
      "50%   -1.747221e-01 -2.072742e-03 -2.398777e-01 -5.910838e-02 -6.246139e-02   \n",
      "75%    5.214424e-01  6.735768e-01  5.064195e-01  7.016423e-01  6.470294e-01   \n",
      "max    4.141497e+00  3.405551e+00  6.060998e+00  4.503372e+00  4.213650e+00   \n",
      "\n",
      "       ...         嘴通平均值        嘴通标准偏差        嘴通变异系数         嘴通最小值  \\\n",
      "count  ...  1.237000e+03  1.237000e+03  1.237000e+03  1.237000e+03   \n",
      "mean   ... -6.755038e-15 -4.595264e-17  2.986922e-16  8.731002e-16   \n",
      "std    ...  1.000404e+00  1.000404e+00  1.000404e+00  1.000404e+00   \n",
      "min    ... -3.674116e+00 -2.940271e+00 -2.733865e+00 -4.442823e+00   \n",
      "25%    ... -6.641788e-01 -6.813795e-01 -6.644290e-01 -6.460936e-01   \n",
      "50%    ...  7.181596e-02 -1.154990e-01 -1.434983e-01  3.640321e-02   \n",
      "75%    ...  6.806747e-01  5.451579e-01  5.609670e-01  6.743516e-01   \n",
      "max    ...  3.236844e+00  7.407655e+00  8.185787e+00  3.168257e+00   \n",
      "\n",
      "              嘴通最大值         总通平均值        总通标准偏差        总通变异系数         总通最小值  \\\n",
      "count  1.237000e+03  1.237000e+03  1.237000e+03  1.237000e+03  1.237000e+03   \n",
      "mean   8.731002e-16  2.940969e-15 -4.135738e-16 -5.284554e-16  7.352423e-16   \n",
      "std    1.000404e+00  1.000404e+00  1.000404e+00  1.000404e+00  1.000404e+00   \n",
      "min   -3.882681e+00 -2.888705e+00 -2.909077e+00 -3.205430e+00 -2.956343e+00   \n",
      "25%   -5.954640e-01 -5.995013e-01 -6.599642e-01 -6.504034e-01 -6.062822e-01   \n",
      "50%    8.187307e-03  6.268517e-03 -8.952385e-02 -9.365820e-02 -9.668604e-03   \n",
      "75%    7.003078e-01  5.514613e-01  4.987522e-01  5.352016e-01  5.869450e-01   \n",
      "max    5.034943e+00  6.912044e+00  6.918700e+00  6.933484e+00  6.751952e+00   \n",
      "\n",
      "              总通最大值  \n",
      "count  1.237000e+03  \n",
      "mean  -4.135738e-16  \n",
      "std    1.000404e+00  \n",
      "min   -2.853726e+00  \n",
      "25%   -6.002697e-01  \n",
      "50%   -5.030625e-02  \n",
      "75%    4.602975e-01  \n",
      "max    8.679272e+00  \n",
      "\n",
      "[8 rows x 40 columns]\n"
     ]
    }
   ],
   "source": [
    "# 进行Z-score标准化\n",
    "from sklearn.preprocessing import StandardScaler\n",
    "print(\"原始数据的统计信息:\")\n",
    "print(data.describe())\n",
    "\n",
    "# 2. 创建并使用 StandardScaler\n",
    "# 创建StandardScaler的实例\n",
    "scaler = StandardScaler()\n",
    "\n",
    "# 使用 .fit_transform() 一步完成拟合和转换\n",
    "# 注意：StandardScaler的输出是一个NumPy数组，而不是Pandas DataFrame\n",
    "scaled_data_numpy = scaler.fit_transform(data)\n",
    "# 为了方便查看，可以将其转换回DataFrame\n",
    "scaled_data = pd.DataFrame(scaled_data_numpy, columns=data.columns)\n",
    "\n",
    "print(\"\\n-------------------------------------------------\")\n",
    "print(\"\\n标准化后数据的统计信息:\")\n",
    "print(scaled_data.describe())"
   ]
  },
  {
   "cell_type": "code",
   "execution_count": 5,
   "id": "6643bae1",
   "metadata": {},
   "outputs": [
    {
     "name": "stdout",
     "output_type": "stream",
     "text": [
      "选择后的数据形状: (1237, 7)\n"
     ]
    }
   ],
   "source": [
    "# 选择所有指标的平均值进行分析，即第1、7、13、19、25、31、36列\n",
    "selected_data = scaled_data.iloc[:, [0, 6, 12, 18, 24, 30, 35]]\n",
    "print(\"选择后的数据形状:\", selected_data.shape)"
   ]
  },
  {
   "cell_type": "code",
   "execution_count": 9,
   "id": "bd1ac477",
   "metadata": {},
   "outputs": [
    {
     "data": {
      "image/png": "[encoded data removed]",
      "text/plain": [
       "<Figure size 1000x600 with 1 Axes>"
      ]
     },
     "metadata": {},
     "output_type": "display_data"
    }
   ],
   "source": [
    "# K-means聚类\n",
    "from sklearn.cluster import KMeans\n",
    "# 1. 确定K值（聚类数）\n",
    "# 使用肘部法则（Elbow Method）来确定K值\n",
    "inertia = []\n",
    "N= 3  # 假设我们尝试1到4个聚类\n",
    "for k in range(1, N+1):\n",
    "    kmeans = KMeans(n_clusters=k, random_state=42)\n",
    "    kmeans.fit(selected_data)\n",
    "    inertia.append(kmeans.inertia_)\n",
    "# 绘制肘部法则图\n",
    "plt.figure(figsize=(10, 6))\n",
    "plt.plot(range(1, N+1), inertia, marker='o')\n",
    "plt.title('Elbow Method for Optimal K')\n",
    "plt.xlabel('Number of clusters (K)')\n",
    "plt.ylabel('Inertia')\n",
    "plt.xticks(range(1, N+1))\n",
    "plt.grid()\n",
    "plt.show()"
   ]
  },
  {
   "cell_type": "code",
   "execution_count": 10,
   "id": "7b065583",
   "metadata": {},
   "outputs": [
    {
     "name": "stdout",
     "output_type": "stream",
     "text": [
      "\n",
      "每个聚类的样本数量:\n",
      "Cluster\n",
      "0    463\n",
      "1    435\n",
      "2    339\n",
      "Name: count, dtype: int64\n"
     ]
    }
   ],
   "source": [
    "# 2. 使用确定的K值进行K-means聚类\n",
    "k = 3\n",
    "kmeans = KMeans(n_clusters=k, random_state=42)\n",
    "kmeans.fit(selected_data)\n",
    "# 获取聚类标签\n",
    "labels = kmeans.labels_\n",
    "# 将聚类标签添加到原始数据中\n",
    "data['Cluster'] = labels\n",
    "# 打印每个聚类的样本数量\n",
    "print(\"\\n每个聚类的样本数量:\")\n",
    "print(data['Cluster'].value_counts())"
   ]
  }
 ],
 "metadata": {
  "kernelspec": {
   "display_name": "ML_Practice",
   "language": "python",
   "name": "python3"
  },
  "language_info": {
   "codemirror_mode": {
    "name": "ipython",
    "version": 3
   },
   "file_extension": ".py",
   "mimetype": "text/x-python",
   "name": "python",
   "nbconvert_exporter": "python",
   "pygments_lexer": "ipython3",
   "version": "3.13.6"
  }
 },
 "nbformat": 4,
 "nbformat_minor": 5
}
