{
 "cells": [
  {
   "cell_type": "code",
   "execution_count": 1,
   "id": "e77d1aa5",
   "metadata": {},
   "outputs": [],
   "source": [
    "import numpy as np\n",
    "import matplotlib.pyplot as plt\n",
    "import seaborn\n",
    "import pandas as pd"
   ]
  },
  {
   "cell_type": "code",
   "execution_count": 2,
   "id": "6e8c74d0",
   "metadata": {},
   "outputs": [
    {
     "name": "stdout",
     "output_type": "stream",
     "text": [
      "   重量平均值    重量相对偏差  重量标准偏差  重量变异系数  重量最小值  重量最大值  吸阻平均值    吸阻相对偏差  吸阻标准偏差  \\\n",
      "0  0.516  0.006524   0.011   2.202  0.499  0.538  1.275  0.041404   0.048   \n",
      "1  0.515  0.004573   0.012   2.350  0.482  0.545  1.321  0.006820   0.046   \n",
      "2  0.507  0.011032   0.012   2.316  0.477  0.524  1.291  0.029375   0.049   \n",
      "3  0.507  0.011032   0.013   2.549  0.479  0.529  1.296  0.025616   0.059   \n",
      "4  0.509  0.007131   0.009   1.863  0.486  0.531  1.350  0.014984   0.058   \n",
      "\n",
      "   吸阻变异系数  ...  嘴通最小值  嘴通最大值  总通平均值  总通标准偏差  总通变异系数  总通最小值  总通最大值     水分  \\\n",
      "0   3.784  ...   33.7   41.4   44.6   2.006   4.502   40.1   48.0  12.08   \n",
      "1   3.465  ...   31.3   39.6   43.0   2.106   4.904   37.8   47.0  12.12   \n",
      "2   3.802  ...   30.9   37.4   42.0   1.810   4.308   38.4   45.3  11.86   \n",
      "3   4.587  ...   31.4   41.4   42.8   2.027   4.739   36.8   47.5  11.64   \n",
      "4   4.322  ...   33.1   39.9   42.0   1.577   3.751   38.4   45.6  11.63   \n",
      "\n",
      "    含末率  端部落丝量  \n",
      "0  3.26    0.7  \n",
      "1  3.09    0.7  \n",
      "2  4.32    1.2  \n",
      "3  3.69    1.3  \n",
      "4  4.33    2.1  \n",
      "\n",
      "[5 rows x 43 columns]\n"
     ]
    }
   ],
   "source": [
    "# 读取excel数据，第一行为列名\n",
    "file = \"data/data.xlsx\"\n",
    "data = pd.read_excel(file, header=0)\n",
    "\n",
    "# 截取数据的第7列至最后一列\n",
    "data = data.iloc[:, 6:]\n",
    "\n",
    "# 打印数据的前几行\n",
    "print(data.head()) "
   ]
  },
  {
   "cell_type": "code",
   "execution_count": 3,
   "id": "7328c059",
   "metadata": {},
   "outputs": [
    {
     "name": "stdout",
     "output_type": "stream",
     "text": [
      "数据预处理前的形状: (1237, 43)\n",
      "异常值已处理。\n",
      "数据预处理后的形状: (321, 43)\n"
     ]
    }
   ],
   "source": [
    "# 检查并处理缺失值（NaNs）和异常值（outliers）\n",
    "def preprocess_data(df):\n",
    "    # 检查缺失值\n",
    "    if df.isnull().values.any():\n",
    "        # 如果存在的缺失值是-3至-1列，则删除这行数据；如果存在的缺失值是其他列，则用均值填充\n",
    "        for col in df.columns[-3:]:\n",
    "            df = df[df[col].notna()]\n",
    "        df = df.fillna(df.mean())\n",
    "    else:\n",
    "        print(\"数据中没有缺失值。\")\n",
    "\n",
    "    # 检查异常值\n",
    "    for column in df.select_dtypes(include=[np.number]).columns:\n",
    "        if (df[column] < 0).any():\n",
    "            print(f\"列 {column} 存在异常值（负数），正在处理...\")\n",
    "            df[column] = df[column].clip(lower=0)\n",
    "\n",
    "    print(\"异常值已处理。\")\n",
    "    return df\n",
    "\n",
    "print(\"数据预处理前的形状:\", data.shape)\n",
    "data = preprocess_data(data)\n",
    "print(\"数据预处理后的形状:\", data.shape)"
   ]
  },
  {
   "cell_type": "code",
   "execution_count": 4,
   "id": "036704d1",
   "metadata": {},
   "outputs": [
    {
     "name": "stdout",
     "output_type": "stream",
     "text": [
      "原始数据的统计信息:\n",
      "            重量平均值      重量相对偏差      重量标准偏差      重量变异系数       重量最小值       重量最大值  \\\n",
      "count  321.000000  321.000000  321.000000  321.000000  321.000000  321.000000   \n",
      "mean     0.512968    0.007715    0.010581    2.055283    0.490963    0.534660   \n",
      "std      0.004992    0.005956    0.001506    0.286316    0.007370    0.007447   \n",
      "min      0.502000    0.000672    0.005000    1.006000    0.466000    0.517000   \n",
      "25%      0.509000    0.003229    0.010000    1.880000    0.487000    0.529000   \n",
      "50%      0.513000    0.006524    0.011000    2.057000    0.491000    0.533000   \n",
      "75%      0.516000    0.010425    0.011000    2.228000    0.495000    0.538000   \n",
      "max      0.531000    0.035783    0.016000    3.133000    0.518000    0.564000   \n",
      "\n",
      "            吸阻平均值      吸阻相对偏差      吸阻标准偏差      吸阻变异系数  ...       嘴通最小值  \\\n",
      "count  321.000000  321.000000  321.000000  321.000000  ...  321.000000   \n",
      "mean     1.334728    0.018218    0.049955    3.740691  ...   34.193065   \n",
      "std      0.030251    0.014023    0.008430    0.616086  ...    1.486932   \n",
      "min      1.263000    0.000053    0.025000    1.974000  ...   27.500000   \n",
      "25%      1.313000    0.006714    0.044000    3.298000  ...   33.200000   \n",
      "50%      1.334000    0.014338    0.049000    3.683000  ...   34.300000   \n",
      "75%      1.355000    0.027871    0.055000    4.148000  ...   35.200000   \n",
      "max      1.416000    0.064605    0.077000    5.970000  ...   37.700000   \n",
      "\n",
      "            嘴通最大值       总通平均值      总通标准偏差      总通变异系数       总通最小值       总通最大值  \\\n",
      "count  321.000000  321.000000  321.000000  321.000000  321.000000  321.000000   \n",
      "mean    40.765158   44.155433    1.692799    3.841944   40.671067   47.736222   \n",
      "std      1.370750    1.568563    0.330370    0.773835    1.873476    2.185168   \n",
      "min     36.400000   40.600000    1.000000    1.855000   35.200000   43.500000   \n",
      "25%     39.900000   43.100000    1.494000    3.354000   39.500000   46.500000   \n",
      "50%     40.800000   44.200000    1.650000    3.750000   40.700000   47.500000   \n",
      "75%     41.700000   45.100000    1.824000    4.136000   41.900000   48.700000   \n",
      "max     44.700000   54.000000    3.972000    9.346000   51.700000   64.400000   \n",
      "\n",
      "               水分         含末率       端部落丝量  \n",
      "count  321.000000  321.000000  321.000000  \n",
      "mean    11.903240    3.230623    1.544548  \n",
      "std      0.226818    0.717078    1.197880  \n",
      "min     11.390000    1.100000    0.200000  \n",
      "25%     11.740000    2.600000    0.800000  \n",
      "50%     11.880000    3.330000    1.100000  \n",
      "75%     12.050000    3.780000    1.700000  \n",
      "max     12.500000    4.490000    9.700000  \n",
      "\n",
      "[8 rows x 43 columns]\n",
      "\n",
      "-------------------------------------------------\n",
      "\n",
      "标准化后数据的统计信息:\n",
      "              重量平均值        重量相对偏差        重量标准偏差        重量变异系数         重量最小值  \\\n",
      "count  3.210000e+02  3.210000e+02  3.210000e+02  3.210000e+02  3.210000e+02   \n",
      "mean   4.089494e-15  7.747351e-17  4.980440e-16 -2.213529e-16 -1.046999e-14   \n",
      "std    1.001561e+00  1.001561e+00  1.001561e+00  1.001561e+00  1.001561e+00   \n",
      "min   -2.200798e+00 -1.184272e+00 -3.712063e+00 -3.670491e+00 -3.392332e+00   \n",
      "25%   -7.962329e-01 -7.542213e-01 -3.862501e-01 -6.131561e-01 -5.385057e-01   \n",
      "50%    6.375864e-03 -2.002312e-01  2.789124e-01  6.006698e-03  5.080243e-03   \n",
      "75%    6.083325e-01  4.557958e-01  2.789124e-01  6.041810e-01  5.486662e-01   \n",
      "max    3.618115e+00  4.719971e+00  3.604725e+00  3.769957e+00  3.674286e+00   \n",
      "\n",
      "              重量最大值         吸阻平均值        吸阻相对偏差        吸阻标准偏差        吸阻变异系数  \\\n",
      "count  3.210000e+02  3.210000e+02  3.210000e+02  3.210000e+02  3.210000e+02   \n",
      "mean  -3.029768e-15 -3.264955e-15 -2.213529e-17 -8.854115e-16  3.320293e-16   \n",
      "std    1.001561e+00  1.001561e+00  1.001561e+00  1.001561e+00  1.001561e+00   \n",
      "min   -2.375220e+00 -2.374767e+00 -1.297416e+00 -2.964990e+00 -2.872082e+00   \n",
      "25%   -7.612939e-01 -7.193611e-01 -8.217080e-01 -7.075358e-01 -7.196762e-01   \n",
      "50%   -2.233185e-01 -2.409071e-02 -2.771461e-01 -1.134688e-01 -9.378779e-02   \n",
      "75%    4.491508e-01  6.711796e-01  6.894252e-01  5.994116e-01  6.621553e-01   \n",
      "max    3.945991e+00  2.690774e+00  3.313069e+00  3.213306e+00  3.624152e+00   \n",
      "\n",
      "       ...         嘴通最小值         嘴通最大值         总通平均值        总通标准偏差  \\\n",
      "count  ...  3.210000e+02  3.210000e+02  3.210000e+02  3.210000e+02   \n",
      "mean   ...  3.497375e-15  1.372388e-15 -1.018223e-15 -5.312469e-16   \n",
      "std    ...  1.001561e+00  1.001561e+00  1.001561e+00  1.001561e+00   \n",
      "min    ... -4.508285e+00 -3.189476e+00 -2.270222e+00 -2.100316e+00   \n",
      "25%    ... -6.689046e-01 -6.321422e-01 -6.739171e-01 -6.026869e-01   \n",
      "50%    ...  7.202852e-02  2.545793e-02  2.845679e-02 -1.297513e-01   \n",
      "75%    ...  6.782465e-01  6.830581e-01  6.031264e-01  3.977538e-01   \n",
      "max    ...  2.362186e+00  2.875059e+00  6.285970e+00  6.909713e+00   \n",
      "\n",
      "             总通变异系数         总通最小值         总通最大值            水分           含末率  \\\n",
      "count  3.210000e+02  3.210000e+02  3.210000e+02  3.210000e+02  3.210000e+02   \n",
      "mean  -6.197881e-16  4.117164e-15  1.992176e-15 -8.112583e-15 -7.913365e-16   \n",
      "std    1.001561e+00  1.001561e+00  1.001561e+00  1.001561e+00  1.001561e+00   \n",
      "min   -2.571668e+00 -2.924836e+00 -1.941652e+00 -2.266317e+00 -2.975898e+00   \n",
      "25%   -6.315379e-01 -6.260532e-01 -5.666163e-01 -7.208195e-01 -8.808080e-01   \n",
      "50%   -1.190019e-01  1.546761e-02 -1.082711e-01 -1.026205e-01  1.388024e-01   \n",
      "75%    3.805914e-01  6.569884e-01  4.417431e-01  6.480497e-01  7.673294e-01   \n",
      "max    7.123805e+00  5.896075e+00  7.637763e+00  2.635118e+00  1.759005e+00   \n",
      "\n",
      "              端部落丝量  \n",
      "count  3.210000e+02  \n",
      "mean  -2.905257e-17  \n",
      "std    1.001561e+00  \n",
      "min   -1.124193e+00  \n",
      "25%   -6.225256e-01  \n",
      "50%   -3.716921e-01  \n",
      "75%    1.299750e-01  \n",
      "max    6.818870e+00  \n",
      "\n",
      "[8 rows x 43 columns]\n"
     ]
    }
   ],
   "source": [
    "# 进行Z-score标准化\n",
    "from sklearn.preprocessing import StandardScaler\n",
    "print(\"原始数据的统计信息:\")\n",
    "print(data.describe())\n",
    "\n",
    "# 2. 创建并使用 StandardScaler\n",
    "# 创建StandardScaler的实例\n",
    "scaler = StandardScaler()\n",
    "\n",
    "# 使用 .fit_transform() 一步完成拟合和转换\n",
    "# 注意：StandardScaler的输出是一个NumPy数组，而不是Pandas DataFrame\n",
    "scaled_data_numpy = scaler.fit_transform(data)\n",
    "# 为了方便查看，可以将其转换回DataFrame\n",
    "scaled_data = pd.DataFrame(scaled_data_numpy, columns=data.columns)\n",
    "\n",
    "print(\"\\n-------------------------------------------------\")\n",
    "print(\"\\n标准化后数据的统计信息:\")\n",
    "print(scaled_data.describe())"
   ]
  },
  {
   "cell_type": "markdown",
   "id": "38cd0b90",
   "metadata": {},
   "source": [
    "# 聚类分析"
   ]
  },
  {
   "cell_type": "code",
   "execution_count": 5,
   "id": "a632602f",
   "metadata": {},
   "outputs": [
    {
     "data": {
      "image/png": "[encoded data removed]",
      "text/plain": [
       "<Figure size 1000x600 with 1 Axes>"
      ]
     },
     "metadata": {},
     "output_type": "display_data"
    }
   ],
   "source": [
    "# K-means聚类\n",
    "from sklearn.cluster import KMeans\n",
    "# 1. 确定K值（聚类数）\n",
    "# 使用肘部法则（Elbow Method）来确定K值\n",
    "inertia = []\n",
    "N= 40  # 假设我们尝试1到20个聚类\n",
    "for k in range(1, N):\n",
    "    kmeans = KMeans(n_clusters=k, random_state=42)\n",
    "    kmeans.fit(scaled_data)\n",
    "    inertia.append(kmeans.inertia_)\n",
    "# 绘制肘部法则图\n",
    "plt.figure(figsize=(10, 6))\n",
    "plt.plot(range(1, N), inertia, marker='o')\n",
    "plt.title('Elbow Method for Optimal K')\n",
    "plt.xlabel('Number of clusters (K)')\n",
    "plt.ylabel('Inertia')\n",
    "plt.xticks(range(1, N))\n",
    "plt.grid()\n",
    "plt.show()"
   ]
  },
  {
   "cell_type": "code",
   "execution_count": 6,
   "id": "550e807c",
   "metadata": {},
   "outputs": [
    {
     "name": "stdout",
     "output_type": "stream",
     "text": [
      "\n",
      "每个聚类的样本数量:\n",
      "Cluster\n",
      "3    127\n",
      "1    107\n",
      "0     44\n",
      "2     43\n",
      "Name: count, dtype: int64\n"
     ]
    }
   ],
   "source": [
    "# 2. 使用确定的K值进行K-means聚类\n",
    "k = 4\n",
    "kmeans = KMeans(n_clusters=k, random_state=42)\n",
    "kmeans.fit(scaled_data)\n",
    "# 获取聚类标签\n",
    "labels = kmeans.labels_\n",
    "# 将聚类标签添加到原始数据中\n",
    "data['Cluster'] = labels\n",
    "# 打印每个聚类的样本数量\n",
    "print(\"\\n每个聚类的样本数量:\")\n",
    "print(data['Cluster'].value_counts())"
   ]
  }
 ],
 "metadata": {
  "kernelspec": {
   "display_name": "ML_Practice",
   "language": "python",
   "name": "python3"
  },
  "language_info": {
   "codemirror_mode": {
    "name": "ipython",
    "version": 3
   },
   "file_extension": ".py",
   "mimetype": "text/x-python",
   "name": "python",
   "nbconvert_exporter": "python",
   "pygments_lexer": "ipython3",
   "version": "3.13.6"
  }
 },
 "nbformat": 4,
 "nbformat_minor": 5
}
