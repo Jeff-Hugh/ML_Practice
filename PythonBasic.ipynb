{
 "cells": [
  {
   "cell_type": "markdown",
   "metadata": {},
   "source": [
    "## Python变量类型"
   ]
  },
  {
   "cell_type": "code",
   "execution_count": 1,
   "metadata": {},
   "outputs": [
    {
     "name": "stdout",
     "output_type": "stream",
     "text": [
      "Python关键字有：\n",
      "['False', 'None', 'True', 'and', 'as', 'assert', 'async', 'await', 'break', 'class', 'continue', 'def', 'del', 'elif', 'else', 'except', 'finally', 'for', 'from', 'global', 'if', 'import', 'in', 'is', 'lambda', 'nonlocal', 'not', 'or', 'pass', 'raise', 'return', 'try', 'while', 'with', 'yield']\n"
     ]
    }
   ],
   "source": [
    "import keyword\n",
    "print(\"Python关键字有：\")\n",
    "print(keyword.kwlist)"
   ]
  },
  {
   "cell_type": "code",
   "execution_count": 2,
   "metadata": {},
   "outputs": [
    {
     "name": "stdout",
     "output_type": "stream",
     "text": [
      "a的数据类型为：<class 'int'>\n",
      "b的数据类型为：<class 'bool'>\n",
      "c的数据类型为：<class 'float'>\n",
      "d的数据类型为：<class 'complex'>\n"
     ]
    }
   ],
   "source": [
    "a = 1\n",
    "b = True\n",
    "c = 3.1415926\n",
    "d = 1 + 2j\n",
    "print(\"a的数据类型为：\" + str(type(a)))\n",
    "print(\"b的数据类型为：\" + str(type(b)))\n",
    "print(\"c的数据类型为：\" + str(type(c)))\n",
    "print(\"d的数据类型为：\" + str(type(d)))"
   ]
  },
  {
   "cell_type": "code",
   "execution_count": 3,
   "metadata": {},
   "outputs": [
    {
     "name": "stdout",
     "output_type": "stream",
     "text": [
      "e的数据类型为：<class 'str'>\n",
      "f的数据类型为：<class 'str'>\n",
      "g的数据类型为：<class 'str'>\n"
     ]
    }
   ],
   "source": [
    "e = \"hello, world\"\n",
    "f = 'Hello, World'\n",
    "g = '123.456'\n",
    "print(\"e的数据类型为：\" + str(type(e)))\n",
    "print(\"f的数据类型为：\" + str(type(f)))\n",
    "print(\"g的数据类型为：\" + str(type(g)))"
   ]
  },
  {
   "cell_type": "code",
   "execution_count": 4,
   "metadata": {},
   "outputs": [
    {
     "name": "stdout",
     "output_type": "stream",
     "text": [
      "h的数据类型为：<class 'list'>\n",
      "i的数据类型为：<class 'tuple'>\n",
      "j的数据类型为：<class 'set'>\n",
      "k的数据类型为：<class 'dict'>\n"
     ]
    }
   ],
   "source": [
    "h = [1, 2, 3, 4, 5]\n",
    "print(\"h的数据类型为：\" + str(type(h)))\n",
    "i = (1, 2, 3, 4, 5)\n",
    "print(\"i的数据类型为：\" + str(type(i)))\n",
    "j = {1, 2, 3, 4, 5}\n",
    "print(\"j的数据类型为：\" + str(type(j)))\n",
    "k = {\"name\": \"Alice\", \"age\": 30}\n",
    "print(\"k的数据类型为：\" + str(type(k)))"
   ]
  },
  {
   "cell_type": "markdown",
   "metadata": {},
   "source": [
    "### 变量类型转换"
   ]
  },
  {
   "cell_type": "code",
   "execution_count": 5,
   "metadata": {},
   "outputs": [
    {
     "name": "stdout",
     "output_type": "stream",
     "text": [
      "x的数据类型为：<class 'str'>\n",
      "y的数据类型为：<class 'float'>\n"
     ]
    }
   ],
   "source": [
    "x = '3.1415926'\n",
    "print(\"x的数据类型为：\" + str(type(x)))\n",
    "y = float(x)\n",
    "print(\"y的数据类型为：\" + str(type(y)))"
   ]
  },
  {
   "cell_type": "code",
   "execution_count": 6,
   "metadata": {},
   "outputs": [
    {
     "name": "stdout",
     "output_type": "stream",
     "text": [
      "a的数据类型为：<class 'int'>\n",
      "b的数据类型为：<class 'str'>\n",
      "b的值为：37\n"
     ]
    }
   ],
   "source": [
    "a = 37\n",
    "print(\"a的数据类型为：\" + str(type(a)))\n",
    "b = str(a)\n",
    "print(\"b的数据类型为：\" + str(type(b)))\n",
    "print(\"b的值为：\" + b)"
   ]
  },
  {
   "cell_type": "markdown",
   "metadata": {},
   "source": [
    "## Python运算"
   ]
  },
  {
   "cell_type": "code",
   "execution_count": 7,
   "metadata": {},
   "outputs": [
    {
     "name": "stdout",
     "output_type": "stream",
     "text": [
      "a整除b的结果为：4\n",
      "a除以b的结果为：4.6\n",
      "a模b的结果为：3\n",
      "a的b次方结果为：6436343\n",
      "a大于b的结果为：True\n",
      "a += b的结果为：28\n",
      "a and b的结果为：5\n",
      "a的二进制表示为：0b11100\n",
      "b的二进制表示为：0b101\n",
      "a & b的结果为：4\n"
     ]
    }
   ],
   "source": [
    "# 算术运算\n",
    "a = 23\n",
    "b = 5\n",
    "print(\"a整除b的结果为：\" + str(a // b))\n",
    "print(\"a除以b的结果为：\" + str(a / b))\n",
    "print(\"a模b的结果为：\" + str(a % b))\n",
    "print(\"a的b次方结果为：\" + str(a ** b))\n",
    "\n",
    "# 关系运算\n",
    "print(\"a大于b的结果为：\" + str(a > b))\n",
    "\n",
    "# 复合赋值运算\n",
    "a += b\n",
    "print(\"a += b的结果为：\" + str(a))\n",
    "\n",
    "# 逻辑运算\n",
    "print(\"a and b的结果为：\" + str(a and b))\n",
    "\n",
    "# 按位运算\n",
    "print(\"a的二进制表示为：\" + str(bin(a)))\n",
    "print(\"b的二进制表示为：\" + str(bin(b)))\n",
    "print(\"a & b的结果为：\" + str(a & b))"
   ]
  },
  {
   "cell_type": "code",
   "execution_count": 8,
   "metadata": {},
   "outputs": [
    {
     "name": "stdout",
     "output_type": "stream",
     "text": [
      "b是否在list_a中：True\n",
      "c是否在tuple_a中：False\n"
     ]
    }
   ],
   "source": [
    "list_a = [1, 2, 3, 4, 5]\n",
    "tuple_a = (6, 2, 5.3, 4, 3.2)\n",
    "b = 3\n",
    "c = 7\n",
    "print(\"b是否在list_a中：\" + str(b in list_a))\n",
    "print(\"c是否在tuple_a中：\" + str(c in tuple_a))"
   ]
  },
  {
   "cell_type": "code",
   "execution_count": 9,
   "metadata": {},
   "outputs": [
    {
     "name": "stdout",
     "output_type": "stream",
     "text": [
      "a是一个空值：True\n",
      "b是一个空值：False\n"
     ]
    }
   ],
   "source": [
    "a = None\n",
    "b = 1\n",
    "print(\"a是一个空值：\" + str(a is None))\n",
    "print(\"b是一个空值：\" + str(b is None))"
   ]
  },
  {
   "cell_type": "code",
   "execution_count": 10,
   "metadata": {},
   "outputs": [
    {
     "name": "stdout",
     "output_type": "stream",
     "text": [
      "c的值为：False\n",
      "d的值为：False\n"
     ]
    }
   ],
   "source": [
    "a = 5\n",
    "b = 2\n",
    "c = a + b * 3 == 5 or a == 1 or a**b < 10 and b != 2\n",
    "d = ((a + b * 3) == 5) or (a == 1) or (a**b < 10) and (b != 2)\n",
    "print(\"c的值为：\" + str(c))\n",
    "print(\"d的值为：\" + str(d))"
   ]
  },
  {
   "cell_type": "markdown",
   "metadata": {},
   "source": [
    "# Python 条件语句"
   ]
  },
  {
   "cell_type": "code",
   "execution_count": 11,
   "metadata": {},
   "outputs": [
    {
     "name": "stdout",
     "output_type": "stream",
     "text": [
      "请输入你的名字\n",
      "你好小明\n"
     ]
    }
   ],
   "source": [
    "name = '小明'\n",
    "if name == 'John':\n",
    "    print('Hello ' + name)\n",
    "else:\n",
    "    print('请输入你的名字')\n",
    "\n",
    "if name == '小明': print('你好' + name)"
   ]
  },
  {
   "cell_type": "code",
   "execution_count": 12,
   "metadata": {},
   "outputs": [
    {
     "name": "stdout",
     "output_type": "stream",
     "text": [
      "你好小明\n"
     ]
    }
   ],
   "source": [
    "name = '小明'\n",
    "if name == 'John':\n",
    "    print('Hello ' + name)\n",
    "elif name == '小明':\n",
    "    print('你好' + name)\n",
    "else:\n",
    "    print('请输入你的名字')"
   ]
  },
  {
   "cell_type": "code",
   "execution_count": 13,
   "metadata": {},
   "outputs": [
    {
     "name": "stdout",
     "output_type": "stream",
     "text": [
      "Perfect\n"
     ]
    }
   ],
   "source": [
    "a = 45\n",
    "if a <= 33 :\n",
    "    print('Too small')\n",
    "elif (a > 33) and (a < 66):\n",
    "    print('Perfect')\n",
    "elif a >= 66:\n",
    "    print('Too big')"
   ]
  },
  {
   "cell_type": "markdown",
   "metadata": {},
   "source": [
    "# Python 循环语句"
   ]
  },
  {
   "cell_type": "code",
   "execution_count": 14,
   "metadata": {},
   "outputs": [
    {
     "name": "stdout",
     "output_type": "stream",
     "text": [
      "这是第 1 次循环\n",
      "这是第 2 次循环\n",
      "这是第 3 次循环\n",
      "这是第 4 次循环\n",
      "这是第 5 次循环\n"
     ]
    }
   ],
   "source": [
    "# while循环\n",
    "count = 0\n",
    "while count < 5:\n",
    "    print(\"这是第 \" + str(count + 1) + \" 次循环\")\n",
    "    count += 1"
   ]
  },
  {
   "cell_type": "code",
   "execution_count": 15,
   "metadata": {},
   "outputs": [
    {
     "name": "stdout",
     "output_type": "stream",
     "text": [
      "这是第 1 次循环\n",
      "这是第 2 次循环\n",
      "这是第 3 次循环\n",
      "这是第 4 次循环\n",
      "这是第 5 次循环\n"
     ]
    }
   ],
   "source": [
    "# for循环\n",
    "N = [1, 2, 3, 4, 5]\n",
    "for i in N:\n",
    "    print(\"这是第 \" + str(i) + \" 次循环\")"
   ]
  },
  {
   "cell_type": "code",
   "execution_count": 16,
   "metadata": {},
   "outputs": [
    {
     "name": "stdout",
     "output_type": "stream",
     "text": [
      "外层循环: 1, 内层循环: 0\n",
      "外层循环: 1, 内层循环: 1\n",
      "外层循环: 2, 内层循环: 0\n",
      "外层循环: 2, 内层循环: 1\n",
      "外层循环: 3, 内层循环: 0\n",
      "外层循环: 3, 内层循环: 1\n",
      "外层循环: 4, 内层循环: 0\n",
      "外层循环: 4, 内层循环: 1\n",
      "外层循环: 5, 内层循环: 0\n",
      "外层循环: 5, 内层循环: 1\n"
     ]
    }
   ],
   "source": [
    "# 循环嵌套\n",
    "for i in N:\n",
    "    for j in range(2):\n",
    "        print(\"外层循环: \" + str(i) + \", 内层循环: \" + str(j))"
   ]
  },
  {
   "cell_type": "code",
   "execution_count": 17,
   "metadata": {},
   "outputs": [
    {
     "name": "stdout",
     "output_type": "stream",
     "text": [
      "外层循环: 1, 内层循环: 0\n",
      "外层循环: 1, 内层循环: 1\n",
      "外层循环: 1, 内层循环: 2\n",
      "外层循环: 1, 内层循环: 3\n",
      "外层循环: 1, 内层循环: 4\n",
      "外层循环: 2, 内层循环: 0\n",
      "外层循环: 2, 内层循环: 1\n",
      "外层循环: 2, 内层循环: 2\n",
      "外层循环: 2, 内层循环: 4\n",
      "外层循环: 3, 内层循环: 0\n",
      "外层循环: 3, 内层循环: 1\n",
      "外层循环: 3, 内层循环: 3\n",
      "外层循环: 4, 内层循环: 0\n",
      "外层循环: 4, 内层循环: 1\n",
      "外层循环: 4, 内层循环: 2\n",
      "外层循环: 5, 内层循环: 0\n",
      "外层循环: 5, 内层循环: 1\n"
     ]
    }
   ],
   "source": [
    "# 循环控制\n",
    "for i in N:\n",
    "    for j in range(5):\n",
    "        if i*j == 6:\n",
    "            continue\n",
    "        elif i*j > 9:\n",
    "            break\n",
    "        else:\n",
    "            print(\"外层循环: \" + str(i) + \", 内层循环: \" + str(j))"
   ]
  },
  {
   "cell_type": "markdown",
   "metadata": {},
   "source": [
    "# 自定义函数"
   ]
  },
  {
   "cell_type": "code",
   "execution_count": 18,
   "metadata": {},
   "outputs": [
    {
     "name": "stdout",
     "output_type": "stream",
     "text": [
      "从1加到100的结果是：5050\n"
     ]
    }
   ],
   "source": [
    "# 定义一个从1加到N的函数，函数只接受一个参数N，并且N是整数，N要大于等于1\n",
    "def sum_to_n(N: int) -> int:\n",
    "    if not isinstance(N, int):\n",
    "        raise TypeError(\"参数N必须是整数\")\n",
    "    if N < 1:\n",
    "        raise ValueError(\"参数N必须大于等于1\")\n",
    "    N_list = range(1, N+1)\n",
    "    return sum(N_list)\n",
    "\n",
    "N = 100\n",
    "result = sum_to_n(N)\n",
    "print(\"从1加到\" + str(N) + \"的结果是：\" + str(result))"
   ]
  },
  {
   "cell_type": "code",
   "execution_count": 19,
   "metadata": {},
   "outputs": [
    {
     "name": "stdout",
     "output_type": "stream",
     "text": [
      "Name:  miki\n",
      "Age  50\n",
      "Name:  miki\n",
      "Age  35\n"
     ]
    }
   ],
   "source": [
    "#可写函数说明\n",
    "def printinfo( name, age = 35 ): \n",
    "    print(\"Name: \", name)\n",
    "    print(\"Age \", age)\n",
    "    return\n",
    "\n",
    "#调用printinfo函数\n",
    "printinfo( age=50, name=\"miki\" )\n",
    "printinfo( name=\"miki\" )"
   ]
  },
  {
   "cell_type": "code",
   "execution_count": 20,
   "metadata": {},
   "outputs": [
    {
     "name": "stdout",
     "output_type": "stream",
     "text": [
      "30\n",
      "25\n"
     ]
    }
   ],
   "source": [
    "# 变量的作用域\n",
    "a = 10\n",
    "def func1():\n",
    "    b = 20\n",
    "    return a + b\n",
    "\n",
    "def func2():\n",
    "    a = 5\n",
    "    b = 20\n",
    "    return a + b\n",
    "\n",
    "print(func1())\n",
    "print(func2())"
   ]
  },
  {
   "cell_type": "markdown",
   "metadata": {},
   "source": [
    "# 模块"
   ]
  },
  {
   "cell_type": "code",
   "execution_count": 21,
   "metadata": {},
   "outputs": [
    {
     "ename": "NameError",
     "evalue": "name 'sqrt' is not defined",
     "output_type": "error",
     "traceback": [
      "\u001b[31m---------------------------------------------------------------------------\u001b[39m",
      "\u001b[31mNameError\u001b[39m                                 Traceback (most recent call last)",
      "\u001b[36mCell\u001b[39m\u001b[36m \u001b[39m\u001b[32mIn[21]\u001b[39m\u001b[32m, line 2\u001b[39m\n\u001b[32m      1\u001b[39m x = \u001b[32m10\u001b[39m\n\u001b[32m----> \u001b[39m\u001b[32m2\u001b[39m \u001b[38;5;28mprint\u001b[39m(\u001b[33m\"\u001b[39m\u001b[33mx的平方根是:\u001b[39m\u001b[33m\"\u001b[39m, \u001b[43msqrt\u001b[49m(x))\n",
      "\u001b[31mNameError\u001b[39m: name 'sqrt' is not defined"
     ]
    }
   ],
   "source": [
    "x = 10\n",
    "print(\"x的平方根是:\", sqrt(x))"
   ]
  },
  {
   "cell_type": "code",
   "execution_count": null,
   "metadata": {},
   "outputs": [
    {
     "name": "stdout",
     "output_type": "stream",
     "text": [
      "x的平方根是: 3.1622776601683795\n"
     ]
    }
   ],
   "source": [
    "import math\n",
    "x = 10\n",
    "print(\"x的平方根是:\", math.sqrt(x))"
   ]
  },
  {
   "cell_type": "code",
   "execution_count": null,
   "metadata": {},
   "outputs": [
    {
     "name": "stdout",
     "output_type": "stream",
     "text": [
      "x的平方根是: 3.1622776601683795\n"
     ]
    }
   ],
   "source": [
    "from math import sqrt\n",
    "x = 10\n",
    "print(\"x的平方根是:\", sqrt(x))"
   ]
  },
  {
   "cell_type": "code",
   "execution_count": 22,
   "metadata": {},
   "outputs": [
    {
     "ename": "NameError",
     "evalue": "name 'log' is not defined",
     "output_type": "error",
     "traceback": [
      "\u001b[31m---------------------------------------------------------------------------\u001b[39m",
      "\u001b[31mNameError\u001b[39m                                 Traceback (most recent call last)",
      "\u001b[36mCell\u001b[39m\u001b[36m \u001b[39m\u001b[32mIn[22]\u001b[39m\u001b[32m, line 2\u001b[39m\n\u001b[32m      1\u001b[39m x = \u001b[32m10\u001b[39m\n\u001b[32m----> \u001b[39m\u001b[32m2\u001b[39m \u001b[38;5;28mprint\u001b[39m(\u001b[33m\"\u001b[39m\u001b[33mx的自然对数是:\u001b[39m\u001b[33m\"\u001b[39m, \u001b[43mlog\u001b[49m(x))\n",
      "\u001b[31mNameError\u001b[39m: name 'log' is not defined"
     ]
    }
   ],
   "source": [
    "x = 10\n",
    "print(\"x的自然对数是:\", log(x))"
   ]
  },
  {
   "cell_type": "code",
   "execution_count": 23,
   "metadata": {},
   "outputs": [
    {
     "name": "stdout",
     "output_type": "stream",
     "text": [
      "x的自然对数是: 2.302585092994046\n"
     ]
    }
   ],
   "source": [
    "from math import *\n",
    "x = 10\n",
    "print(\"x的自然对数是:\", log(x))"
   ]
  },
  {
   "cell_type": "code",
   "execution_count": 26,
   "metadata": {},
   "outputs": [
    {
     "name": "stdout",
     "output_type": "stream",
     "text": [
      "系统路径为： ['C:\\\\Program Files\\\\Python313\\\\python313.zip', 'C:\\\\Program Files\\\\Python313\\\\DLLs', 'C:\\\\Program Files\\\\Python313\\\\Lib', 'C:\\\\Program Files\\\\Python313', 'e:\\\\MyProgram\\\\ML_Practice\\\\.venv', '', 'e:\\\\MyProgram\\\\ML_Practice\\\\.venv\\\\Lib\\\\site-packages', 'e:\\\\MyProgram\\\\ML_Practice\\\\.venv\\\\Lib\\\\site-packages\\\\win32', 'e:\\\\MyProgram\\\\ML_Practice\\\\.venv\\\\Lib\\\\site-packages\\\\win32\\\\lib', 'e:\\\\MyProgram\\\\ML_Practice\\\\.venv\\\\Lib\\\\site-packages\\\\Pythonwin']\n"
     ]
    }
   ],
   "source": [
    "# 查看Python模块的路径\n",
    "import sys\n",
    "print(\"系统路径为：\", sys.path)"
   ]
  }
 ],
 "metadata": {
  "kernelspec": {
   "display_name": "ML_Practice",
   "language": "python",
   "name": "python3"
  },
  "language_info": {
   "codemirror_mode": {
    "name": "ipython",
    "version": 3
   },
   "file_extension": ".py",
   "mimetype": "text/x-python",
   "name": "python",
   "nbconvert_exporter": "python",
   "pygments_lexer": "ipython3",
   "version": "3.13.6"
  }
 },
 "nbformat": 4,
 "nbformat_minor": 0
}
