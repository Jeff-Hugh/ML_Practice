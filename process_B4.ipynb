{
 "cells": [
  {
   "cell_type": "code",
   "execution_count": 1,
   "id": "e77d1aa5",
   "metadata": {},
   "outputs": [],
   "source": [
    "import numpy as np\n",
    "import matplotlib.pyplot as plt\n",
    "import seaborn\n",
    "import pandas as pd"
   ]
  },
  {
   "cell_type": "code",
   "execution_count": 2,
   "id": "6e8c74d0",
   "metadata": {},
   "outputs": [
    {
     "name": "stdout",
     "output_type": "stream",
     "text": [
      "count     1237\n",
      "unique       4\n",
      "top         7#\n",
      "freq       326\n",
      "Name: 机号, dtype: object\n"
     ]
    }
   ],
   "source": [
    "# 读取excel数据，第一行为列名\n",
    "file = \"data/data.xlsx\"\n",
    "data = pd.read_excel(file, header=0)\n",
    "\n",
    "# 截取数据的第7列至最后一列\n",
    "x = data.iloc[:, 6:]\n",
    "\n",
    "# 特征\n",
    "y = data.iloc[:, 5]\n",
    "\n",
    "print(y.describe())"
   ]
  },
  {
   "cell_type": "code",
   "execution_count": 3,
   "id": "7328c059",
   "metadata": {},
   "outputs": [
    {
     "name": "stdout",
     "output_type": "stream",
     "text": [
      "数据预处理前的形状: (1237, 43)\n",
      "异常值已处理。\n",
      "数据预处理后的形状: (321, 43)\n"
     ]
    }
   ],
   "source": [
    "# 检查并处理缺失值（NaNs）和异常值（outliers）\n",
    "def preprocess_data(df):\n",
    "    # 检查缺失值\n",
    "    if df.isnull().values.any():\n",
    "        # 如果存在的缺失值是-3至-1列，则删除这行数据；如果存在的缺失值是其他列，则用均值填充\n",
    "        for col in df.columns[-3:]:\n",
    "            df = df[df[col].notna()]\n",
    "        df = df.fillna(df.mean())\n",
    "    else:\n",
    "        print(\"数据中没有缺失值。\")\n",
    "\n",
    "    # 检查异常值\n",
    "    for column in df.select_dtypes(include=[np.number]).columns:\n",
    "        if (df[column] < 0).any():\n",
    "            print(f\"列 {column} 存在异常值（负数），正在处理...\")\n",
    "            df[column] = df[column].clip(lower=0)\n",
    "\n",
    "    print(\"异常值已处理。\")\n",
    "    return df\n",
    "\n",
    "print(\"数据预处理前的形状:\", x.shape)\n",
    "x = preprocess_data(x)\n",
    "print(\"数据预处理后的形状:\", x.shape)"
   ]
  },
  {
   "cell_type": "code",
   "execution_count": 4,
   "id": "036704d1",
   "metadata": {},
   "outputs": [],
   "source": [
    "# 进行Z-score标准化\n",
    "from sklearn.preprocessing import StandardScaler\n",
    "# print(\"原始数据的统计信息:\")\n",
    "# print(data.describe())\n",
    "\n",
    "# 2. 创建并使用 StandardScaler\n",
    "# 创建StandardScaler的实例\n",
    "scaler = StandardScaler()\n",
    "\n",
    "# 使用 .fit_transform() 一步完成拟合和转换\n",
    "# 注意：StandardScaler的输出是一个NumPy数组，而不是Pandas DataFrame\n",
    "scaled_x_numpy = scaler.fit_transform(x)\n",
    "# 为了方便查看，可以将其转换回DataFrame\n",
    "scaled_x = pd.DataFrame(scaled_x_numpy, columns=x.columns)\n",
    "\n",
    "# print(\"\\n-------------------------------------------------\")\n",
    "# print(\"\\n标准化后数据的统计信息:\")\n",
    "# print(scaled_data.describe())"
   ]
  },
  {
   "cell_type": "markdown",
   "id": "38cd0b90",
   "metadata": {},
   "source": [
    "# 分类分析"
   ]
  },
  {
   "cell_type": "code",
   "execution_count": null,
   "id": "eb118825",
   "metadata": {},
   "outputs": [],
   "source": [
    "# 划分训练集和测试集\n",
    "X_train, X_test, y_train, y_test = train_test_split(scaled_x, y, test_size=0.2, random_state=42)\n"
   ]
  }
 ],
 "metadata": {
  "kernelspec": {
   "display_name": "ML_Practice",
   "language": "python",
   "name": "python3"
  },
  "language_info": {
   "codemirror_mode": {
    "name": "ipython",
    "version": 3
   },
   "file_extension": ".py",
   "mimetype": "text/x-python",
   "name": "python",
   "nbconvert_exporter": "python",
   "pygments_lexer": "ipython3",
   "version": "3.13.6"
  }
 },
 "nbformat": 4,
 "nbformat_minor": 5
}
